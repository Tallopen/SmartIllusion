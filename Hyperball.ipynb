{
 "cells": [
  {
   "cell_type": "code",
   "execution_count": 1,
   "metadata": {
    "collapsed": true
   },
   "outputs": [],
   "source": [
    "from latent import *"
   ]
  },
  {
   "cell_type": "code",
   "execution_count": 2,
   "outputs": [
    {
     "name": "stdout",
     "output_type": "stream",
     "text": [
      "[[ 1.4360526   4.4568577  -4.348968    0.9512681 ]\n",
      " [ 1.5972167   4.60637    -3.8651319   1.2214983 ]\n",
      " [ 1.6826841   4.666628   -3.3827314   1.5558859 ]\n",
      " ...\n",
      " [ 0.60684514 -3.2334542   2.2629385   1.6887263 ]\n",
      " [ 0.6188119  -3.3027475   2.2855108   1.7183124 ]\n",
      " [ 0.5110249  -3.3498633   2.2984684   1.7014551 ]]\n",
      "WARNING:tensorflow:No training configuration found in save file, so the model was *not* compiled. Compile it manually.\n",
      "WARNING:tensorflow:No training configuration found in save file, so the model was *not* compiled. Compile it manually.\n"
     ]
    }
   ],
   "source": [
    "from copy import deepcopy\n",
    "\n",
    "p = project.Project(r\"example\\visualLatent.mat\")\n",
    "p.load_visual_ae(r\"example\\VAELargeImage1-4\")\n",
    "p.load_visual_upscaler(r\"example\\Upscaler1\")\n",
    "\n",
    "# use the first and second latent dimension to construct a circle\n",
    "circle_radius = 4\n",
    "\n",
    "for track_id in range(6):\n",
    "    t1 = Track()\n",
    "    visual_pts = []\n",
    "    for i in range(100):\n",
    "        angle = 2 * math.pi * i / 80 - 10 + 20 * track_id\n",
    "        x = circle_radius * math.cos(angle)\n",
    "        y = circle_radius * math.sin(angle)\n",
    "        if track_id == 0:\n",
    "            visual_pts.append([x, y, 0, 0])\n",
    "        elif track_id == 1:\n",
    "            visual_pts.append([0, x, y, 0])\n",
    "        elif track_id == 2:\n",
    "            visual_pts.append([0, 0, x, y])\n",
    "        elif track_id == 3:\n",
    "            visual_pts.append([x, 0, 0, y])\n",
    "        elif track_id == 4:\n",
    "            visual_pts.append([0, y, x, 0])\n",
    "        else:\n",
    "            visual_pts.append([x, 0, y, 0])\n",
    "    t1.visual_pts = visual_pts\n",
    "    t1.visual_combinations = [[[0, 1], [1, 1]]]\n",
    "    p.tracks.append(t1)\n",
    "\n",
    "    reverse_t1 = deepcopy(t1)\n",
    "    reverse_t1.visual_pts = reverse_t1.visual_pts[::-1]\n",
    "    p.tracks.append(reverse_t1)\n",
    "\n",
    "p.serialize(r'E:\\202407\\Hyperball-circ\\hyp.sip')"
   ],
   "metadata": {
    "collapsed": false
   }
  },
  {
   "cell_type": "code",
   "execution_count": 3,
   "outputs": [
    {
     "name": "stderr",
     "output_type": "stream",
     "text": [
      "100%|██████████| 380/380 [00:44<00:00,  8.54it/s]\n"
     ]
    },
    {
     "name": "stdout",
     "output_type": "stream",
     "text": [
      "12/12 [==============================] - 46s 4s/step\n",
      "12/12 [==============================] - 46s 4s/step\n"
     ]
    },
    {
     "name": "stderr",
     "output_type": "stream",
     "text": [
      "100%|██████████| 380/380 [00:26<00:00, 14.59it/s]\n"
     ]
    },
    {
     "name": "stdout",
     "output_type": "stream",
     "text": [
      "12/12 [==============================] - 46s 4s/step\n",
      "12/12 [==============================] - 46s 4s/step\n"
     ]
    },
    {
     "name": "stderr",
     "output_type": "stream",
     "text": [
      "100%|██████████| 436/436 [00:32<00:00, 13.59it/s]\n"
     ]
    },
    {
     "name": "stdout",
     "output_type": "stream",
     "text": [
      "14/14 [==============================] - 53s 4s/step\n",
      "14/14 [==============================] - 53s 4s/step\n"
     ]
    },
    {
     "name": "stderr",
     "output_type": "stream",
     "text": [
      "100%|██████████| 436/436 [00:30<00:00, 14.40it/s]\n"
     ]
    },
    {
     "name": "stdout",
     "output_type": "stream",
     "text": [
      "14/14 [==============================] - 52s 4s/step\n",
      "14/14 [==============================] - 52s 4s/step\n"
     ]
    },
    {
     "name": "stderr",
     "output_type": "stream",
     "text": [
      "100%|██████████| 502/502 [00:34<00:00, 14.46it/s]\n"
     ]
    },
    {
     "name": "stdout",
     "output_type": "stream",
     "text": [
      "16/16 [==============================] - 60s 4s/step\n",
      "16/16 [==============================] - 60s 4s/step\n"
     ]
    },
    {
     "name": "stderr",
     "output_type": "stream",
     "text": [
      "100%|██████████| 502/502 [00:35<00:00, 14.22it/s]\n"
     ]
    },
    {
     "name": "stdout",
     "output_type": "stream",
     "text": [
      "16/16 [==============================] - 60s 4s/step\n",
      "16/16 [==============================] - 60s 4s/step\n"
     ]
    },
    {
     "name": "stderr",
     "output_type": "stream",
     "text": [
      "100%|██████████| 366/366 [00:25<00:00, 14.56it/s]\n"
     ]
    },
    {
     "name": "stdout",
     "output_type": "stream",
     "text": [
      "12/12 [==============================] - 44s 4s/step\n",
      "12/12 [==============================] - 44s 4s/step\n"
     ]
    },
    {
     "name": "stderr",
     "output_type": "stream",
     "text": [
      "100%|██████████| 366/366 [00:26<00:00, 13.60it/s]\n"
     ]
    },
    {
     "name": "stdout",
     "output_type": "stream",
     "text": [
      "12/12 [==============================] - 44s 4s/step\n",
      "12/12 [==============================] - 44s 4s/step\n"
     ]
    },
    {
     "name": "stderr",
     "output_type": "stream",
     "text": [
      "100%|██████████| 434/434 [00:29<00:00, 14.50it/s]\n"
     ]
    },
    {
     "name": "stdout",
     "output_type": "stream",
     "text": [
      "14/14 [==============================] - 52s 4s/step\n",
      "14/14 [==============================] - 52s 4s/step\n"
     ]
    },
    {
     "name": "stderr",
     "output_type": "stream",
     "text": [
      "100%|██████████| 434/434 [00:30<00:00, 14.47it/s]\n"
     ]
    },
    {
     "name": "stdout",
     "output_type": "stream",
     "text": [
      "14/14 [==============================] - 52s 4s/step\n",
      "14/14 [==============================] - 52s 4s/step\n"
     ]
    },
    {
     "name": "stderr",
     "output_type": "stream",
     "text": [
      "100%|██████████| 402/402 [00:28<00:00, 14.30it/s]\n"
     ]
    },
    {
     "name": "stdout",
     "output_type": "stream",
     "text": [
      "13/13 [==============================] - 48s 4s/step\n",
      "13/13 [==============================] - 48s 4s/step\n"
     ]
    },
    {
     "name": "stderr",
     "output_type": "stream",
     "text": [
      "100%|██████████| 402/402 [00:29<00:00, 13.58it/s]\n"
     ]
    },
    {
     "name": "stdout",
     "output_type": "stream",
     "text": [
      "13/13 [==============================] - 48s 4s/step\n",
      "13/13 [==============================] - 48s 4s/step\n"
     ]
    }
   ],
   "source": [
    "p.generate_all(r'E:\\202407\\Hyperball-circ')"
   ],
   "metadata": {
    "collapsed": false
   }
  },
  {
   "cell_type": "code",
   "execution_count": null,
   "outputs": [],
   "source": [
    "# to use this project:\n",
    "from latent import *\n",
    "\n",
    "call_runner(r\"E:\\202407\\Hyperball-circ\", \"v\")"
   ],
   "metadata": {
    "collapsed": false
   }
  },
  {
   "cell_type": "markdown",
   "source": [
    "## Random traj in a 4D space"
   ],
   "metadata": {
    "collapsed": false
   }
  },
  {
   "cell_type": "code",
   "execution_count": 1,
   "outputs": [],
   "source": [
    "from latent import *"
   ],
   "metadata": {
    "collapsed": false
   }
  },
  {
   "cell_type": "markdown",
   "source": [
    "Define a behavioral sampler that generates random trajectories in a 4D space."
   ],
   "metadata": {
    "collapsed": false
   }
  },
  {
   "cell_type": "code",
   "execution_count": 54,
   "outputs": [],
   "source": [
    "class BoxSampler4D:\n",
    "\n",
    "    def __init__(self, box_size):\n",
    "        self.box_size = box_size\n",
    "\n"
   ],
   "metadata": {
    "collapsed": false
   }
  }
 ],
 "metadata": {
  "kernelspec": {
   "display_name": "Python 3",
   "language": "python",
   "name": "python3"
  },
  "language_info": {
   "codemirror_mode": {
    "name": "ipython",
    "version": 2
   },
   "file_extension": ".py",
   "mimetype": "text/x-python",
   "name": "python",
   "nbconvert_exporter": "python",
   "pygments_lexer": "ipython2",
   "version": "2.7.6"
  }
 },
 "nbformat": 4,
 "nbformat_minor": 0
}
